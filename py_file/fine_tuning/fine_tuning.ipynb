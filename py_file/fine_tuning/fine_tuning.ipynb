{
 "cells": [
  {
   "cell_type": "code",
   "execution_count": 2,
   "id": "35727b50-3652-4bc2-9bbd-178831e8e54b",
   "metadata": {},
   "outputs": [],
   "source": [
    "# !pip install --upgrade pip\n",
    "# !pip install huggingface_hub\n",
    "# !pip install transformers\n",
    "# !pip install datasets\n",
    "# !pip install peft\n",
    "# !pip install bitsandbytes\n",
    "# !pip install -U typing_extensions\n",
    "# !pip install -U transformers datasets peft accelerate bitsandbytes"
   ]
  },
  {
   "cell_type": "code",
   "execution_count": null,
   "id": "1d4d204e",
   "metadata": {},
   "outputs": [],
   "source": [
    "from huggingface_hub import login\n",
    "\n",
    "login(token='')"
   ]
  },
  {
   "cell_type": "code",
   "execution_count": 4,
   "id": "f28192b9",
   "metadata": {},
   "outputs": [],
   "source": [
    "from datasets import load_dataset\n",
    "from transformers import (\n",
    "    AutoTokenizer, AutoModelForCausalLM, TrainingArguments, Trainer,\n",
    "    DataCollatorForLanguageModeling, BitsAndBytesConfig\n",
    ")\n",
    "from peft import LoraConfig, get_peft_model, prepare_model_for_kbit_training"
   ]
  },
  {
   "cell_type": "code",
   "execution_count": 5,
   "id": "68a6c167",
   "metadata": {},
   "outputs": [],
   "source": [
    "# 1. 모델 이름\n",
    "model_name = \"mistralai/Mistral-7B-v0.1\""
   ]
  },
  {
   "cell_type": "code",
   "execution_count": 6,
   "id": "76afccbd",
   "metadata": {},
   "outputs": [],
   "source": [
    "# 2. 4bit 양자화 설정\n",
    "\n",
    "bnb_config = BitsAndBytesConfig(\n",
    "    load_in_4bit=True,\n",
    "    bnb_4bit_quant_type=\"nf4\",\n",
    "    bnb_4bit_compute_dtype=\"bfloat16\",\n",
    "    bnb_4bit_use_double_quant=True,\n",
    "    llm_int8_enable_fp32_cpu_offload=True\n",
    ")\n"
   ]
  },
  {
   "cell_type": "code",
   "execution_count": 7,
   "id": "7d40275b",
   "metadata": {},
   "outputs": [
    {
     "data": {
      "application/vnd.jupyter.widget-view+json": {
       "model_id": "d0a8db39beb04e01b89a6224c52ab101",
       "version_major": 2,
       "version_minor": 0
      },
      "text/plain": [
       "tokenizer_config.json:   0%|          | 0.00/996 [00:00<?, ?B/s]"
      ]
     },
     "metadata": {},
     "output_type": "display_data"
    },
    {
     "data": {
      "application/vnd.jupyter.widget-view+json": {
       "model_id": "b4651859a752438e80c30ad94507d769",
       "version_major": 2,
       "version_minor": 0
      },
      "text/plain": [
       "tokenizer.model:   0%|          | 0.00/493k [00:00<?, ?B/s]"
      ]
     },
     "metadata": {},
     "output_type": "display_data"
    },
    {
     "data": {
      "application/vnd.jupyter.widget-view+json": {
       "model_id": "b169b825450541b79bbc53d0030b3153",
       "version_major": 2,
       "version_minor": 0
      },
      "text/plain": [
       "tokenizer.json:   0%|          | 0.00/1.80M [00:00<?, ?B/s]"
      ]
     },
     "metadata": {},
     "output_type": "display_data"
    },
    {
     "data": {
      "application/vnd.jupyter.widget-view+json": {
       "model_id": "513aa3270660441a8040ec2c9b796eb7",
       "version_major": 2,
       "version_minor": 0
      },
      "text/plain": [
       "special_tokens_map.json:   0%|          | 0.00/414 [00:00<?, ?B/s]"
      ]
     },
     "metadata": {},
     "output_type": "display_data"
    },
    {
     "data": {
      "application/vnd.jupyter.widget-view+json": {
       "model_id": "4af3adea6d44418499bb415d41b96214",
       "version_major": 2,
       "version_minor": 0
      },
      "text/plain": [
       "config.json:   0%|          | 0.00/571 [00:00<?, ?B/s]"
      ]
     },
     "metadata": {},
     "output_type": "display_data"
    },
    {
     "data": {
      "application/vnd.jupyter.widget-view+json": {
       "model_id": "373a5133d90340ed8f0e50e330480eed",
       "version_major": 2,
       "version_minor": 0
      },
      "text/plain": [
       "model.safetensors.index.json:   0%|          | 0.00/25.1k [00:00<?, ?B/s]"
      ]
     },
     "metadata": {},
     "output_type": "display_data"
    },
    {
     "data": {
      "application/vnd.jupyter.widget-view+json": {
       "model_id": "008e700224c049d8a2e08bebf24e604d",
       "version_major": 2,
       "version_minor": 0
      },
      "text/plain": [
       "Fetching 2 files:   0%|          | 0/2 [00:00<?, ?it/s]"
      ]
     },
     "metadata": {},
     "output_type": "display_data"
    },
    {
     "data": {
      "application/vnd.jupyter.widget-view+json": {
       "model_id": "46eb9997c2f74413ae5e7d2d387aaccb",
       "version_major": 2,
       "version_minor": 0
      },
      "text/plain": [
       "model-00002-of-00002.safetensors:   0%|          | 0.00/4.54G [00:00<?, ?B/s]"
      ]
     },
     "metadata": {},
     "output_type": "display_data"
    },
    {
     "data": {
      "application/vnd.jupyter.widget-view+json": {
       "model_id": "eb160b69561641018df57c85d5338743",
       "version_major": 2,
       "version_minor": 0
      },
      "text/plain": [
       "model-00001-of-00002.safetensors:   0%|          | 0.00/9.94G [00:00<?, ?B/s]"
      ]
     },
     "metadata": {},
     "output_type": "display_data"
    },
    {
     "data": {
      "application/vnd.jupyter.widget-view+json": {
       "model_id": "034eb83e9fe24c37883a308c765e281a",
       "version_major": 2,
       "version_minor": 0
      },
      "text/plain": [
       "Loading checkpoint shards:   0%|          | 0/2 [00:00<?, ?it/s]"
      ]
     },
     "metadata": {},
     "output_type": "display_data"
    },
    {
     "data": {
      "application/vnd.jupyter.widget-view+json": {
       "model_id": "03ee2bdde1ed469cb0fe81f4ac0bc446",
       "version_major": 2,
       "version_minor": 0
      },
      "text/plain": [
       "generation_config.json:   0%|          | 0.00/116 [00:00<?, ?B/s]"
      ]
     },
     "metadata": {},
     "output_type": "display_data"
    }
   ],
   "source": [
    "# 3. 토크나이저 및 모델 로드\n",
    "# tokenizer에 pad_token 지정 필수\n",
    "tokenizer = AutoTokenizer.from_pretrained(model_name)\n",
    "tokenizer.pad_token = tokenizer.eos_token\n",
    "\n",
    "model = AutoModelForCausalLM.from_pretrained(\n",
    "    model_name,\n",
    "    quantization_config=bnb_config,\n",
    "    device_map=\"auto\",\n",
    "    offload_folder=\"./offload\"  # 디스크 캐시 위치\n",
    ")"
   ]
  },
  {
   "cell_type": "code",
   "execution_count": 8,
   "id": "b5a043f2",
   "metadata": {},
   "outputs": [],
   "source": [
    "# 4. QLoRA 적용을 위한 PEFT 설정\n",
    "model = prepare_model_for_kbit_training(model)\n",
    "lora_config = LoraConfig(\n",
    "    r=8,\n",
    "    lora_alpha=16,\n",
    "    target_modules=[\"q_proj\", \"v_proj\"],\n",
    "    lora_dropout=0.1,\n",
    "    bias=\"none\",\n",
    "    task_type=\"CAUSAL_LM\"\n",
    ")\n",
    "model = get_peft_model(model, lora_config)"
   ]
  },
  {
   "cell_type": "code",
   "execution_count": 9,
   "id": "4a1ca19e",
   "metadata": {},
   "outputs": [
    {
     "data": {
      "application/vnd.jupyter.widget-view+json": {
       "model_id": "33e59aee54514e3db668ca9e507e1898",
       "version_major": 2,
       "version_minor": 0
      },
      "text/plain": [
       "Generating train split: 0 examples [00:00, ? examples/s]"
      ]
     },
     "metadata": {},
     "output_type": "display_data"
    },
    {
     "data": {
      "application/vnd.jupyter.widget-view+json": {
       "model_id": "b4d21c6a03204a4ea0d248e955cdf654",
       "version_major": 2,
       "version_minor": 0
      },
      "text/plain": [
       "Map:   0%|          | 0/83 [00:00<?, ? examples/s]"
      ]
     },
     "metadata": {},
     "output_type": "display_data"
    }
   ],
   "source": [
    "# 5. 데이터 로드 및 전처리\n",
    "dataset = load_dataset(\"json\", data_files=\"./dog_lm_dataset.json\")\n",
    "\n",
    "def tokenize(example):\n",
    "    return tokenizer(example[\"text\"], truncation=True, padding=\"max_length\", max_length=512)\n",
    "\n",
    "tokenized_dataset = dataset[\"train\"].map(tokenize, batched=True, remove_columns=[\"text\"])\n",
    "collator = DataCollatorForLanguageModeling(tokenizer=tokenizer, mlm=False)"
   ]
  },
  {
   "cell_type": "code",
   "execution_count": 10,
   "id": "5dca30ac",
   "metadata": {},
   "outputs": [],
   "source": [
    "# 6. 학습 인자 설정\n",
    "training_args = TrainingArguments(\n",
    "    output_dir=\"./qlora_mistral_dog_model\",\n",
    "    per_device_train_batch_size=2,\n",
    "    gradient_accumulation_steps=4,\n",
    "    num_train_epochs=3,\n",
    "    logging_steps=20,\n",
    "    save_strategy=\"epoch\",\n",
    "    save_total_limit=1,\n",
    "    fp16=False,\n",
    "    bf16=True,\n",
    "    report_to=\"none\"\n",
    ")"
   ]
  },
  {
   "cell_type": "code",
   "execution_count": 11,
   "id": "df864614",
   "metadata": {},
   "outputs": [
    {
     "name": "stderr",
     "output_type": "stream",
     "text": [
      "/tmp/ipykernel_454/1741438243.py:2: FutureWarning: `tokenizer` is deprecated and will be removed in version 5.0.0 for `Trainer.__init__`. Use `processing_class` instead.\n",
      "  trainer = Trainer(\n",
      "No label_names provided for model class `PeftModelForCausalLM`. Since `PeftModel` hides base models input arguments, if label_names is not given, label_names can't be set automatically within `Trainer`. Note that empty label_names list will be used instead.\n",
      "`use_cache=True` is incompatible with gradient checkpointing. Setting `use_cache=False`.\n",
      "/usr/local/lib/python3.10/dist-packages/torch/utils/checkpoint.py:429: UserWarning: torch.utils.checkpoint: please pass in use_reentrant=True or use_reentrant=False explicitly. The default value of use_reentrant will be updated to be False in the future. To maintain current behavior, pass use_reentrant=True. It is recommended that you use use_reentrant=False. Refer to docs for more details on the differences between the two variants.\n",
      "  warnings.warn(\n"
     ]
    },
    {
     "data": {
      "text/html": [
       "\n",
       "    <div>\n",
       "      \n",
       "      <progress value='30' max='30' style='width:300px; height:20px; vertical-align: middle;'></progress>\n",
       "      [30/30 02:28, Epoch 2/3]\n",
       "    </div>\n",
       "    <table border=\"1\" class=\"dataframe\">\n",
       "  <thead>\n",
       " <tr style=\"text-align: left;\">\n",
       "      <th>Step</th>\n",
       "      <th>Training Loss</th>\n",
       "    </tr>\n",
       "  </thead>\n",
       "  <tbody>\n",
       "    <tr>\n",
       "      <td>20</td>\n",
       "      <td>1.243200</td>\n",
       "    </tr>\n",
       "  </tbody>\n",
       "</table><p>"
      ],
      "text/plain": [
       "<IPython.core.display.HTML object>"
      ]
     },
     "metadata": {},
     "output_type": "display_data"
    },
    {
     "name": "stderr",
     "output_type": "stream",
     "text": [
      "/usr/local/lib/python3.10/dist-packages/torch/utils/checkpoint.py:429: UserWarning: torch.utils.checkpoint: please pass in use_reentrant=True or use_reentrant=False explicitly. The default value of use_reentrant will be updated to be False in the future. To maintain current behavior, pass use_reentrant=True. It is recommended that you use use_reentrant=False. Refer to docs for more details on the differences between the two variants.\n",
      "  warnings.warn(\n",
      "/usr/local/lib/python3.10/dist-packages/torch/utils/checkpoint.py:429: UserWarning: torch.utils.checkpoint: please pass in use_reentrant=True or use_reentrant=False explicitly. The default value of use_reentrant will be updated to be False in the future. To maintain current behavior, pass use_reentrant=True. It is recommended that you use use_reentrant=False. Refer to docs for more details on the differences between the two variants.\n",
      "  warnings.warn(\n"
     ]
    },
    {
     "data": {
      "text/plain": [
       "TrainOutput(global_step=30, training_loss=1.22690060933431, metrics={'train_runtime': 154.0153, 'train_samples_per_second': 1.617, 'train_steps_per_second': 0.195, 'total_flos': 5026515863470080.0, 'train_loss': 1.22690060933431, 'epoch': 2.761904761904762})"
      ]
     },
     "execution_count": 11,
     "metadata": {},
     "output_type": "execute_result"
    }
   ],
   "source": [
    "# 7. Trainer 실행\n",
    "trainer = Trainer(\n",
    "    model=model,\n",
    "    args=training_args,\n",
    "    train_dataset=tokenized_dataset,\n",
    "    tokenizer=tokenizer,\n",
    "    data_collator=collator\n",
    ")\n",
    "\n",
    "trainer.train()"
   ]
  },
  {
   "cell_type": "code",
   "execution_count": 12,
   "id": "5e714c24",
   "metadata": {},
   "outputs": [
    {
     "data": {
      "text/plain": [
       "('./qlora_mistral_dog_model/tokenizer_config.json',\n",
       " './qlora_mistral_dog_model/special_tokens_map.json',\n",
       " './qlora_mistral_dog_model/tokenizer.json')"
      ]
     },
     "execution_count": 12,
     "metadata": {},
     "output_type": "execute_result"
    }
   ],
   "source": [
    "# 8. 어댑터 저장 (base model은 저장 안함)\n",
    "model.save_pretrained(\"./qlora_mistral_dog_model\")\n",
    "tokenizer.save_pretrained(\"./qlora_mistral_dog_model\")"
   ]
  },
  {
   "cell_type": "code",
   "execution_count": 13,
   "id": "4aab1891",
   "metadata": {},
   "outputs": [],
   "source": [
    "# import torch\n",
    "# torch.cuda.empty_cache()"
   ]
  },
  {
   "cell_type": "code",
   "execution_count": 14,
   "id": "8c769d21",
   "metadata": {},
   "outputs": [
    {
     "data": {
      "application/vnd.jupyter.widget-view+json": {
       "model_id": "cfa3d4a966db4a809aca9cc2db97c39b",
       "version_major": 2,
       "version_minor": 0
      },
      "text/plain": [
       "Loading checkpoint shards:   0%|          | 0/2 [00:00<?, ?it/s]"
      ]
     },
     "metadata": {},
     "output_type": "display_data"
    },
    {
     "name": "stderr",
     "output_type": "stream",
     "text": [
      "Device set to use cuda:0\n",
      "The model 'PeftModelForCausalLM' is not supported for text-generation. Supported models are ['AriaTextForCausalLM', 'BambaForCausalLM', 'BartForCausalLM', 'BertLMHeadModel', 'BertGenerationDecoder', 'BigBirdForCausalLM', 'BigBirdPegasusForCausalLM', 'BioGptForCausalLM', 'BlenderbotForCausalLM', 'BlenderbotSmallForCausalLM', 'BloomForCausalLM', 'CamembertForCausalLM', 'LlamaForCausalLM', 'CodeGenForCausalLM', 'CohereForCausalLM', 'Cohere2ForCausalLM', 'CpmAntForCausalLM', 'CTRLLMHeadModel', 'Data2VecTextForCausalLM', 'DbrxForCausalLM', 'DeepseekV3ForCausalLM', 'DiffLlamaForCausalLM', 'ElectraForCausalLM', 'Emu3ForCausalLM', 'ErnieForCausalLM', 'FalconForCausalLM', 'FalconMambaForCausalLM', 'FuyuForCausalLM', 'GemmaForCausalLM', 'Gemma2ForCausalLM', 'Gemma3ForConditionalGeneration', 'Gemma3ForCausalLM', 'GitForCausalLM', 'GlmForCausalLM', 'Glm4ForCausalLM', 'GotOcr2ForConditionalGeneration', 'GPT2LMHeadModel', 'GPT2LMHeadModel', 'GPTBigCodeForCausalLM', 'GPTNeoForCausalLM', 'GPTNeoXForCausalLM', 'GPTNeoXJapaneseForCausalLM', 'GPTJForCausalLM', 'GraniteForCausalLM', 'GraniteMoeForCausalLM', 'GraniteMoeSharedForCausalLM', 'HeliumForCausalLM', 'JambaForCausalLM', 'JetMoeForCausalLM', 'LlamaForCausalLM', 'Llama4ForCausalLM', 'Llama4ForCausalLM', 'MambaForCausalLM', 'Mamba2ForCausalLM', 'MarianForCausalLM', 'MBartForCausalLM', 'MegaForCausalLM', 'MegatronBertForCausalLM', 'MistralForCausalLM', 'MixtralForCausalLM', 'MllamaForCausalLM', 'MoshiForCausalLM', 'MptForCausalLM', 'MusicgenForCausalLM', 'MusicgenMelodyForCausalLM', 'MvpForCausalLM', 'NemotronForCausalLM', 'OlmoForCausalLM', 'Olmo2ForCausalLM', 'OlmoeForCausalLM', 'OpenLlamaForCausalLM', 'OpenAIGPTLMHeadModel', 'OPTForCausalLM', 'PegasusForCausalLM', 'PersimmonForCausalLM', 'PhiForCausalLM', 'Phi3ForCausalLM', 'Phi4MultimodalForCausalLM', 'PhimoeForCausalLM', 'PLBartForCausalLM', 'ProphetNetForCausalLM', 'QDQBertLMHeadModel', 'Qwen2ForCausalLM', 'Qwen2MoeForCausalLM', 'Qwen3ForCausalLM', 'Qwen3MoeForCausalLM', 'RecurrentGemmaForCausalLM', 'ReformerModelWithLMHead', 'RemBertForCausalLM', 'RobertaForCausalLM', 'RobertaPreLayerNormForCausalLM', 'RoCBertForCausalLM', 'RoFormerForCausalLM', 'RwkvForCausalLM', 'Speech2Text2ForCausalLM', 'StableLmForCausalLM', 'Starcoder2ForCausalLM', 'TransfoXLLMHeadModel', 'TrOCRForCausalLM', 'WhisperForCausalLM', 'XGLMForCausalLM', 'XLMWithLMHeadModel', 'XLMProphetNetForCausalLM', 'XLMRobertaForCausalLM', 'XLMRobertaXLForCausalLM', 'XLNetLMHeadModel', 'XmodForCausalLM', 'ZambaForCausalLM', 'Zamba2ForCausalLM'].\n"
     ]
    }
   ],
   "source": [
    "from transformers import AutoTokenizer, AutoModelForCausalLM, pipeline\n",
    "from peft import PeftModel\n",
    "\n",
    "# 1. base 모델 및 tokenizer 로드\n",
    "base_model_name = \"mistralai/Mistral-7B-v0.1\"\n",
    "adapter_path = \"./qlora_mistral_dog_model\"\n",
    "\n",
    "tokenizer = AutoTokenizer.from_pretrained(adapter_path)\n",
    "tokenizer.pad_token = tokenizer.eos_token\n",
    "\n",
    "base_model = AutoModelForCausalLM.from_pretrained(\n",
    "    base_model_name,\n",
    "    device_map=\"auto\",\n",
    "    torch_dtype=\"auto\",\n",
    "    offload_folder=\"./offload\",\n",
    ")\n",
    "\n",
    "# 2. 어댑터 모델 적용\n",
    "model = PeftModel.from_pretrained(base_model, adapter_path)\n",
    "\n",
    "# 3. pipeline 생성\n",
    "pipe = pipeline(\"text-generation\", model=model, tokenizer=tokenizer)"
   ]
  },
  {
   "cell_type": "code",
   "execution_count": 39,
   "id": "5a030a6b-6fb1-4690-91ab-f1599b583422",
   "metadata": {},
   "outputs": [
    {
     "name": "stderr",
     "output_type": "stream",
     "text": [
      "Device set to use cuda:0\n"
     ]
    }
   ],
   "source": [
    "default = pipeline(\"text-generation\", model=base_model, tokenizer=tokenizer)"
   ]
  },
  {
   "cell_type": "code",
   "execution_count": 46,
   "id": "47f93696",
   "metadata": {},
   "outputs": [
    {
     "name": "stdout",
     "output_type": "stream",
     "text": [
      "\n",
      "✅ 생성 결과:\n",
      " You are an expert in the Basset Hound breed.Tell me about the Basset Hound breed.Please answer including the characteristics of the Basset Hound breed.\n",
      "\n",
      "Basset Hounds are a type of dog that was originally bred in France. They are known for their short, stocky bodies and long ears. Basset Hounds are typically very friendly and affectionate dogs, and they make great companions. They are also very good at tracking and hunting, and they have been used for these purposes for centuries.\n",
      "\n",
      "Basset Hounds are a type of dog that was originally bred in France. They are known for their short, stocky bodies and long ears. Basset Hounds are typically very friendly and affectionate dogs, and they make great companions. They are also very good at tracking and hunting, and they have been used for these purposes for centuries.\n",
      "\n",
      "Basset Hounds are a type of dog that was originally bred in France. They are known for their short, stocky bodies and long ears. Basset Hounds are typically very friendly and affectionate dogs, and they make great companions. They are also very good at tracking and hunting, and they have been used for these purposes for centuries.\n",
      "\n",
      "Basset Hounds are a type of dog that was originally bred in France. They are known for their short, stocky bodies and long ears. Basset Hounds are typically very friendly and affectionate dogs, and they make great companions. They are also very good at tracking and hunting, and they have been used for these purposes for centuries.\n",
      "\n",
      "Basset Hounds are a type of dog that was originally bred in France. They are known for their short, stocky bodies and long ears. Basset Hounds are typically very friendly and affectionate dogs, and they make great companions. They are also very good at tracking and hunting, and they have been used for these purposes for centuries.\n",
      "\n",
      "Basset Hounds are a type of dog that was originally bred in France. They are known for their short, stocky bodies and long ears. Basset Hounds are typically very friendly and affectionate dogs, and they make great companions. They are also very good at tracking and hunting, and they have been used for these purposes for centuries.\n",
      "\n",
      "Basset Hounds are a type of dog that was originally bred in France. They are known for their short, stocky bodies and long ears. Basset Hounds are typically very friendly and affectionate dogs, and they make great companions. They are also very good at tracking and hunting, and they have been used for these purposes for centuries.\n",
      "\n",
      "Basset Hounds are a type of dog that was originally bred in France. They are known for their short, stocky bodies and long ears. Basset Hounds are typically very friendly and affectionate dogs, and they make great companions. They are also very good at tracking and hunting, and they have been used for these purposes for centuries.\n",
      "\n",
      "Basset Hounds are a type of dog that was originally bred in France. They are known for their short, stocky bodies and long ears. Basset Hounds are typically very friendly and affectionate dogs, and they make great companions. They are also very good at tracking and hunting, and they have been used for these purposes for centuries.\n",
      "\n",
      "Basset Hounds are a type of dog that was originally bred in France. They are known for their short, stocky bodies and long ears. Basset Hounds are typically very friendly and affectionate dogs, and they make great companions. They are also very good at tracking and hunting, and they have been used for these purposes for centuries.\n",
      "\n",
      "Basset Hounds are a type of dog that was originally bred in France. They are known for their short, stocky bodies and long ears. Basset Hounds are typically very friendly and affectionate dogs, and they make great companions. They are also very good at tracking and hunting, and they have been used for these purposes for centuries.\n",
      "\n",
      "Basset Hounds are a type of dog that was originally bred in France. They are known for their short, stocky bodies and long ears. Basset Hounds are typically very friendly and affectionate dogs, and they make great companions. They are also very good at tracking and hunting, and they have been used for these purposes for centuries.\n",
      "\n",
      "Basset Hounds are a type of dog that was originally bred in France. They are known for their short, stocky bodies and long ears. Basset Hounds are typically very friendly and affectionate dogs, and they make great companions. They are also very good at tracking and hunting, and they have been used for these purposes for centuries.\n",
      "\n",
      "Basset Hounds are a type of dog that was originally bred in France. They are known for their short, stocky bodies and long ears. Basset Hounds are typically very friendly and affectionate dogs, and they make great companions\n",
      "\n",
      "✅ 생성 결과:\n",
      " You are an expert in the Basset Hound breed.Tell me about the Basset Hound breed.Please answer including the characteristics of the Basset Hound breed.\n",
      "\n",
      "The Basset Hound is a short-legged breed of dog of the hound family. The breed is known for its long ears, short legs and large feet, and its sense of smell. The breed is used for hunting hare and rabbit.\n",
      "\n",
      "The Basset Hound is a breed of dog that is known for its short legs and long ears. The breed is believed to have originated in France and is thought to be a descendant of the St. Hubert Hound. The Basset Hound is a popular breed of dog and is often used as a companion animal.\n",
      "\n",
      "The Basset Hound is a breed of dog that is known for its short legs and long ears. The breed is believed to have originated in France and is thought to be a descendant of the St. Hubert Hound. The Basset Hound is a popular breed of dog and is often used as a companion animal.\n",
      "\n",
      "The Basset Hound is a breed of dog that is known for its short legs and long ears. The breed is believed to have originated in France and is thought to be a descendant of the St. Hubert Hound. The Basset Hound is a popular breed of dog and is often used as a companion animal.\n",
      "\n",
      "The Basset Hound is a breed of dog that is known for its short legs and long ears. The breed is believed to have originated in France and is thought to be a descendant of the St. Hubert Hound. The Basset Hound is a popular breed of dog and is often used as a companion animal.\n",
      "\n",
      "The Basset Hound is a breed of dog that is known for its short legs and long ears. The breed is believed to have originated in France and is thought to be a descendant of the St. Hubert Hound. The Basset Hound is a popular breed of dog and is often used as a companion animal.\n",
      "\n",
      "The Basset Hound is a breed of dog that is known for its short legs and long ears. The breed is believed to have originated in France and is thought to be a descendant of the St. Hubert Hound. The Basset Hound is a popular breed of dog and is often used as a companion animal.\n",
      "\n",
      "The Basset Hound is a breed of dog that is known for its short legs and long ears. The breed is believed to have originated in France and is thought to be a descendant of the St. Hubert Hound. The Basset Hound is a popular breed of dog and is often used as a companion animal.\n",
      "\n",
      "The Basset Hound is a breed of dog that is known for its short legs and long ears. The breed is believed to have originated in France and is thought to be a descendant of the St. Hubert Hound. The Basset Hound is a popular breed of dog and is often used as a companion animal.\n",
      "\n",
      "The Basset Hound is a breed of dog that is known for its short legs and long ears. The breed is believed to have originated in France and is thought to be a descendant of the St. Hubert Hound. The Basset Hound is a popular breed of dog and is often used as a companion animal.\n",
      "\n",
      "The Basset Hound is a breed of dog that is known for its short legs and long ears. The breed is believed to have originated in France and is thought to be a descendant of the St. Hubert Hound. The Basset Hound is a popular breed of dog and is often used as a companion animal.\n",
      "\n",
      "The Basset Hound is a breed of dog that is known for its short legs and long ears. The breed is believed to have originated in France and is thought to be a descendant of the St. Hubert Hound. The Basset Hound is a popular breed of dog and is often used as a companion animal.\n",
      "\n",
      "The Basset Hound is a breed of dog that is known for its short legs and long ears. The breed is believed to have originated in France and is thought to be a descendant of the St. Hubert Hound. The Basset Hound is a popular breed of dog and is often used as a companion animal.\n",
      "\n",
      "The Basset Hound is a breed of dog that is known for its short legs and long ears. The breed is believed to have originated in France and is thought to be a descendant of the St. Hubert Hound. The Basset Hound is a popular breed of dog and is often used as a companion animal.\n",
      "\n",
      "The Basset Hound is a breed of dog that is known for its short legs and long ears. The breed is believed to have originated in France and is\n"
     ]
    }
   ],
   "source": [
    "prompt = (\n",
    "   \"You are an expert in the Basset Hound breed.\"\n",
    "\"Tell me about the Basset Hound breed.\"\n",
    "\"Please answer including the characteristics of the Basset Hound breed.\"\n",
    ")\n",
    "\n",
    "output = pipe(prompt, max_new_tokens=1000, do_sample=True, temperature=0.3)[0][\"generated_text\"]\n",
    "print(\"\\n✅ 생성 결과:\\n\", output)\n",
    "\n",
    "output = default(prompt, max_new_tokens=1000, do_sample=True, temperature=0.3)[0][\"generated_text\"]\n",
    "print(\"\\n✅ 생성 결과:\\n\", output)"
   ]
  }
 ],
 "metadata": {
  "kernelspec": {
   "display_name": "Python 3 (ipykernel)",
   "language": "python",
   "name": "python3"
  },
  "language_info": {
   "codemirror_mode": {
    "name": "ipython",
    "version": 3
   },
   "file_extension": ".py",
   "mimetype": "text/x-python",
   "name": "python",
   "nbconvert_exporter": "python",
   "pygments_lexer": "ipython3",
   "version": "3.10.12"
  }
 },
 "nbformat": 4,
 "nbformat_minor": 5
}
