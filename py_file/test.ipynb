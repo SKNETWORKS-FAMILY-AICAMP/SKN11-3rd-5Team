{
 "cells": [
  {
   "cell_type": "code",
   "execution_count": 12,
   "id": "e9556045",
   "metadata": {},
   "outputs": [
    {
     "data": {
      "text/plain": [
       "True"
      ]
     },
     "execution_count": 12,
     "metadata": {},
     "output_type": "execute_result"
    }
   ],
   "source": [
    "from dotenv import load_dotenv\n",
    "load_dotenv()"
   ]
  },
  {
   "cell_type": "code",
   "execution_count": 13,
   "id": "5dfe2cb7",
   "metadata": {},
   "outputs": [
    {
     "data": {
      "text/plain": [
       "{'breeds': [{'title': '골든 리트리버',\n",
       "   'sections': [{'topic': '견종백과',\n",
       "     'subtopics': [{'title': '성격',\n",
       "       'content': ['너무 착하고 사람을 좋아해서 문제가 되기도 함.',\n",
       "        '도둑도 반기는 경우 있음.',\n",
       "        '침을 많이 흘리는 특성.']},\n",
       "      {'title': '물에 대한 본능',\n",
       "       'content': ['조상들의 영향으로 물을 좋아함.', '연못이 보이면 들어가버릴 정도.']},\n",
       "      {'title': '장점',\n",
       "       'content': ['머리가 좋고 사람과 함께 있는 것을 좋아함.', '기본 명령은 자연스럽게 익힘.']},\n",
       "      {'title': '안내견 가능성',\n",
       "       'content': ['모든 리트리버가 가능한 것은 아님.', '안내견은 특별히 선별된 개체들.']},\n",
       "      {'title': '질병',\n",
       "       'content': ['인브리딩으로 인한 유전적 문제, 암 발생률 높음.', '최근에는 건강검사 통해 개선 중.']},\n",
       "      {'title': '키우는 난이도',\n",
       "       'content': ['도시보다는 외곽에서 키우는 게 적합.', '도시에서는 개가 힘들 수 있음.']},\n",
       "      {'title': '예비 보호자에게',\n",
       "       'content': ['누구에게나 잘 어울리지만 운동량 확보는 필수.', '산책과 함께 있는 시간이 중요.']},\n",
       "      {'title': '리트리버 라이프',\n",
       "       'content': ['가로수길, 홍대 등도 가능.',\n",
       "        '사람만 있으면 어디든 함께함.',\n",
       "        '정말 행복한 라이프가 될 수 있음.']},\n",
       "      {'title': '한마디로 표현', 'content': ['더럽게 착하다.', '인류에게 사랑을 알려주는 견종.']}]}]},\n",
       "  {'title': '닥스훈트',\n",
       "   'sections': [{'topic': '견종백과',\n",
       "     'subtopics': [{'title': '성격',\n",
       "       'content': ['장난기 많고 에너지가 넘치며, 사냥 본능이 강하다.',\n",
       "        '사람을 좋아하면서도 소심한 면과 경계심이 공존한다.',\n",
       "        '먹을 것에 매우 민감하며 식탁 위 음식도 자주 노린다.']},\n",
       "      {'title': '물에 대한 본능',\n",
       "       'content': ['물 자체를 좋아하기보다는 땅 파기와 굴 파기를 더 선호한다.',\n",
       "        '수영보다는 사냥 본능과 냄새 추적에 집중하는 견종이다.']},\n",
       "      {'title': '장점',\n",
       "       'content': ['충성심이 강하고 가족과의 유대감이 깊다.',\n",
       "        '작고 민첩하며 지능이 높아 다양한 환경에 적응 가능하다.']},\n",
       "      {'title': '안내견 가능성',\n",
       "       'content': ['고집이 강하고 독립심이 있어 안내견에는 적합하지 않다.',\n",
       "        '사회화와 훈련이 가능하지만 반복적이고 인내심이 요구된다.']},\n",
       "      {'title': '질병',\n",
       "       'content': ['허리 디스크에 매우 취약하며, 계단이나 점프를 피해야 한다.',\n",
       "        '체중 증가가 질병에 큰 영향을 미치므로 관리가 필수이다.',\n",
       "        '디스크로 인해 대소변이 어려워질 수 있다.']},\n",
       "      {'title': '키우는 난이도',\n",
       "       'content': ['고집과 짖음이 강해 훈련에 많은 노력이 필요하다.',\n",
       "        '실내에서는 인테리어 손상 등 주의가 필요하며, 활동적인 환경이 좋다.']},\n",
       "      {'title': '예비 보호자에게',\n",
       "       'content': ['충동적인 입양보다 충분한 정보와 각오가 필요하다.',\n",
       "        '허리 건강을 위한 환경과 일상적인 운동, 체중 관리가 필요하다.',\n",
       "        '가족과 함께하는 시간과 정서적 교류가 중요한 견종이다.']},\n",
       "      {'title': '닥스훈트 라이프',\n",
       "       'content': ['벽지, 가구 등을 물어뜯거나 굴 파는 행동을 할 수 있어 관리가 필요하다.',\n",
       "        '활발한 성격과 사냥 본능으로 실내외에서 꾸준한 활동을 요구한다.',\n",
       "        '가족과 깊이 교류하며, 외로움을 많이 타기 때문에 동반 시간이 중요하다.']},\n",
       "      {'title': '한마디로 표현',\n",
       "       'content': ['고집 있고 사랑스러운 사냥꾼.', '작지만 강한, 가족 중심의 파트너견.']}]}]}]}"
      ]
     },
     "execution_count": 13,
     "metadata": {},
     "output_type": "execute_result"
    }
   ],
   "source": [
    "import json\n",
    "from langchain.schema import Document\n",
    "\n",
    "with open('./data/gold_doc.json', 'r', encoding='utf-8') as f:\n",
    "    documents = json.load(f)\n",
    "\n",
    "documents"
   ]
  },
  {
   "cell_type": "code",
   "execution_count": 10,
   "id": "0430628a",
   "metadata": {},
   "outputs": [],
   "source": [
    "def flatten_breeds(data):\n",
    "    docs = []\n",
    "    for breed in data[\"breeds\"]:\n",
    "        breed_name = breed[\"title\"]\n",
    "        for section in breed[\"sections\"]:\n",
    "            for subtopic in section[\"subtopics\"]:\n",
    "                topic = subtopic[\"title\"]\n",
    "                for content in subtopic[\"content\"]:\n",
    "                    text = f\"{breed_name} - {topic}: {content}\"\n",
    "                    docs.append(Document(page_content=text, metadata={\"breed\": breed_name, \"topic\": topic}))\n",
    "    return docs\n",
    "\n",
    "docs = flatten_breeds(documents)"
   ]
  },
  {
   "cell_type": "code",
   "execution_count": 28,
   "id": "d3617dee",
   "metadata": {},
   "outputs": [
    {
     "name": "stderr",
     "output_type": "stream",
     "text": [
      "C:\\Users\\yubny\\AppData\\Local\\Temp\\ipykernel_108792\\2380837040.py:4: LangChainDeprecationWarning: The class `OpenAIEmbeddings` was deprecated in LangChain 0.0.9 and will be removed in 1.0. An updated version of the class exists in the :class:`~langchain-openai package and should be used instead. To use it run `pip install -U :class:`~langchain-openai` and import as `from :class:`~langchain_openai import OpenAIEmbeddings``.\n",
      "  embedding = OpenAIEmbeddings(model=\"text-embedding-3-small\")\n",
      "C:\\Users\\yubny\\AppData\\Local\\Temp\\ipykernel_108792\\2380837040.py:14: LangChainDeprecationWarning: Since Chroma 0.4.x the manual persistence method is no longer supported as docs are automatically persisted.\n",
      "  vectorstore.persist()\n"
     ]
    }
   ],
   "source": [
    "from langchain.vectorstores import Chroma\n",
    "from langchain.embeddings import OpenAIEmbeddings\n",
    "\n",
    "embedding = OpenAIEmbeddings(model=\"text-embedding-3-small\")\n",
    "\n",
    "# 저장 디렉토리 새로 만들거나 덮어쓰기\n",
    "vectorstore = Chroma.from_documents(\n",
    "    docs,\n",
    "    embedding=embedding,\n",
    "    persist_directory=\"./chroma_db\",  # 혹시 이전 데이터 남아있으면 덮어쓰기\n",
    ")\n",
    "\n",
    "# 저장\n",
    "vectorstore.persist()\n"
   ]
  },
  {
   "cell_type": "code",
   "execution_count": 30,
   "id": "c898370c",
   "metadata": {},
   "outputs": [
    {
     "data": {
      "text/plain": [
       "[(Document(metadata={'breed': '골든 리트리버', 'topic': '성격'}, page_content='골든 리트리버 - 성격: 침을 많이 흘리는 특성.'),\n",
       "  1.0027541119514867),\n",
       " (Document(metadata={'breed': '닥스훈트', 'topic': '성격'}, page_content='닥스훈트 - 성격: 장난기 많고 에너지가 넘치며, 사냥 본능이 강하다.'),\n",
       "  1.0405797229879024),\n",
       " (Document(metadata={'breed': '닥스훈트', 'topic': '장점'}, page_content='닥스훈트 - 장점: 작고 민첩하며 지능이 높아 다양한 환경에 적응 가능하다.'),\n",
       "  1.1030253186153487),\n",
       " (Document(metadata={'breed': '골든 리트리버', 'topic': '성격'}, page_content='골든 리트리버 - 성격: 도둑도 반기는 경우 있음.'),\n",
       "  1.1264533033552324)]"
      ]
     },
     "execution_count": 30,
     "metadata": {},
     "output_type": "execute_result"
    }
   ],
   "source": [
    "query = \"닥스훈트와 골든 리트리버는 어떤 점에서 비슷한 성격이나 특징을 가지고 있나요?\"\n",
    "\n",
    "\n",
    "# vector store 직접 조회(similarity_with_score)\n",
    "retrievals = vectorstore.similarity_search_with_score(query)\n",
    "retrievals\n"
   ]
  },
  {
   "cell_type": "code",
   "execution_count": 38,
   "id": "49d7e448",
   "metadata": {},
   "outputs": [
    {
     "data": {
      "text/plain": [
       "[[Document(metadata={'breed': '골든 리트리버', 'topic': '성격'}, page_content='골든 리트리버 - 성격: 침을 많이 흘리는 특성.'),\n",
       "  Document(metadata={'breed': '닥스훈트', 'topic': '성격'}, page_content='닥스훈트 - 성격: 장난기 많고 에너지가 넘치며, 사냥 본능이 강하다.'),\n",
       "  Document(metadata={'breed': '닥스훈트', 'topic': '장점'}, page_content='닥스훈트 - 장점: 작고 민첩하며 지능이 높아 다양한 환경에 적응 가능하다.')]]"
      ]
     },
     "execution_count": 38,
     "metadata": {},
     "output_type": "execute_result"
    }
   ],
   "source": [
    "# Retriever store 직접 조회\n",
    "retriever = vectorstore.as_retriever(\n",
    "    search_type='similarity',\n",
    "    search_kwargs={'k':3}\n",
    ")\n",
    "\n",
    "retrieval_result = retriever.batch([query])\n",
    "retrieval_result\n",
    "\n"
   ]
  },
  {
   "cell_type": "code",
   "execution_count": 39,
   "id": "71ee5d91",
   "metadata": {},
   "outputs": [],
   "source": [
    "def search_knowledge(query):\n",
    "    similar_docs = vectorstore.similarity_search(query, k=3)\n",
    "    return \"\\n\".join([doc.page_content for doc in similar_docs])"
   ]
  },
  {
   "cell_type": "code",
   "execution_count": 40,
   "id": "8146ec29",
   "metadata": {},
   "outputs": [],
   "source": [
    "from langchain_core.prompts import ChatPromptTemplate\n",
    "prompt = ChatPromptTemplate([\n",
    "    (\"system\",\"당신은 반려견 전문가입니다. 아래는 견종 정보입니다. 사용자의 질문에 적절한 견종과 항목을 기반으로 정확하고 친절하게 설명해 주세요.\"),\n",
    "    (\"user\",\"\"\"\n",
    "어린이의 질문에 context 만을 이용해 답변하세요.\n",
    "질문 :{query}\n",
    "context:{context}\n",
    "\"\"\")\n",
    "])"
   ]
  },
  {
   "cell_type": "code",
   "execution_count": 41,
   "id": "a9684db7",
   "metadata": {},
   "outputs": [
    {
     "data": {
      "text/plain": [
       "ChatPromptValue(messages=[SystemMessage(content='당신은 반려견 전문가입니다. 아래는 견종 정보입니다. 사용자의 질문에 적절한 견종과 항목을 기반으로 정확하고 친절하게 설명해 주세요.', additional_kwargs={}, response_metadata={}), HumanMessage(content=\"\\n어린이의 질문에 context 만을 이용해 답변하세요.\\n질문 :닥스훈트와 골든 리트리버는 어떤 점에서 비슷한 성격이나 특징을 가지고 있나요?\\ncontext:[(Document(metadata={'breed': '골든 리트리버', 'topic': '성격'}, page_content='골든 리트리버 - 성격: 침을 많이 흘리는 특성.'), 1.0027541119514867), (Document(metadata={'breed': '닥스훈트', 'topic': '성격'}, page_content='닥스훈트 - 성격: 장난기 많고 에너지가 넘치며, 사냥 본능이 강하다.'), 1.0405797229879024), (Document(metadata={'breed': '닥스훈트', 'topic': '장점'}, page_content='닥스훈트 - 장점: 작고 민첩하며 지능이 높아 다양한 환경에 적응 가능하다.'), 1.1030253186153487), (Document(metadata={'breed': '골든 리트리버', 'topic': '성격'}, page_content='골든 리트리버 - 성격: 도둑도 반기는 경우 있음.'), 1.1264533033552324)]\\n\", additional_kwargs={}, response_metadata={})])"
      ]
     },
     "execution_count": 41,
     "metadata": {},
     "output_type": "execute_result"
    }
   ],
   "source": [
    "prompt.invoke({'query':query,'context':retrievals})"
   ]
  },
  {
   "cell_type": "code",
   "execution_count": 42,
   "id": "5b5bc222",
   "metadata": {},
   "outputs": [],
   "source": [
    "from langchain_openai import ChatOpenAI\n",
    "\n",
    "model = ChatOpenAI(\n",
    "    model_name = 'gpt-4o-mini',\n",
    "    temperature = 0.5\n",
    "\n",
    ")"
   ]
  },
  {
   "cell_type": "code",
   "execution_count": 43,
   "id": "eec2659f",
   "metadata": {},
   "outputs": [],
   "source": [
    "from langchain_core.output_parsers import StrOutputParser\n",
    "from langchain_core.runnables import RunnablePassthrough\n",
    "\n",
    "#context 생성\n",
    "\n",
    "query = \"리트리버를 키우기 위한 좋은 견주 조건은 뭔가요\"\n",
    "retrievals = retriever.batch([query])\n",
    "context_text = \"\\n\".join([doc.page_content for doc in retrievals[0]])\n",
    "\n",
    "\n",
    "\n",
    "chain = prompt | model | StrOutputParser()"
   ]
  },
  {
   "cell_type": "code",
   "execution_count": 44,
   "id": "b959e2cd",
   "metadata": {},
   "outputs": [
    {
     "data": {
      "text/plain": [
       "'리트리버를 키우기 위한 좋은 견주 조건은 다음과 같아요. 첫째, 리트리버는 활동적인 개이기 때문에 충분한 운동을 시켜줄 수 있어야 해요. 둘째, 물을 좋아하는 성격이 있어서 물가에 데려가 주는 것도 좋답니다. 마지막으로, 리트리버는 훈련을 잘 받는 편이지만, 모든 리트리버가 안내견이 될 수 있는 건 아니기 때문에 그 점도 고려해야 해요. 그래서 리트리버를 잘 키우려면 사랑과 관심을 많이 주는 것이 중요해요!'"
      ]
     },
     "execution_count": 44,
     "metadata": {},
     "output_type": "execute_result"
    }
   ],
   "source": [
    "chain.invoke({'query':query,'context':retrievals})"
   ]
  }
 ],
 "metadata": {
  "kernelspec": {
   "display_name": "vectordb_env",
   "language": "python",
   "name": "python3"
  },
  "language_info": {
   "codemirror_mode": {
    "name": "ipython",
    "version": 3
   },
   "file_extension": ".py",
   "mimetype": "text/x-python",
   "name": "python",
   "nbconvert_exporter": "python",
   "pygments_lexer": "ipython3",
   "version": "3.9.21"
  }
 },
 "nbformat": 4,
 "nbformat_minor": 5
}
